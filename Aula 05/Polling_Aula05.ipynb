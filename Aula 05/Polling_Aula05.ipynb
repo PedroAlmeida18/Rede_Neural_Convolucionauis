{
  "nbformat": 4,
  "nbformat_minor": 0,
  "metadata": {
    "colab": {
      "provenance": [],
      "gpuType": "T4"
    },
    "kernelspec": {
      "name": "python3",
      "display_name": "Python 3"
    },
    "language_info": {
      "name": "python"
    },
    "accelerator": "GPU"
  },
  "cells": [
    {
      "cell_type": "markdown",
      "source": [
        "#Polling\n",
        "- Subamostragem, selecionar menos pixels e mantém o principal da imagem.\n",
        "- Menos parâmetros e mais desempenho\n",
        "- Menor chance de OvERFITTING\n",
        "- Destacar o mais importante\n",
        "- Aprendizado hierárquico\n",
        "## MaxPool2d\n",
        "- Campo de visão de 2\n",
        "- pulo de pixels de 2\n",
        "- Assim eu consigo transformar uma imagem de 4x4 para uma 2x2 preservando aonde tem amior ativação de pixels\n",
        "- E isso também depende do uso do kernel para utilizar e ter maior detalhamento ou não dos pixels"
      ],
      "metadata": {
        "id": "Uuq5XOassb8f"
      }
    },
    {
      "cell_type": "markdown",
      "source": [
        "#Implementção do Polling"
      ],
      "metadata": {
        "id": "GNo23pqcumiQ"
      }
    },
    {
      "cell_type": "code",
      "execution_count": 1,
      "metadata": {
        "id": "VI-6TkdIsS4R"
      },
      "outputs": [],
      "source": [
        "import torch\n",
        "from torch import nn\n",
        "from skimage import data"
      ]
    },
    {
      "cell_type": "code",
      "source": [
        "tns = torch.FloatTensor([[[1,2,3],[4,5,6],[7,8,9]]])\n",
        "\n",
        "pool = nn.MaxPool2d(2,stride=1)\n",
        "saida= pool(tns)\n",
        "print(tns.size())\n",
        "print(tns)\n",
        "print(saida.size())\n",
        "print(saida) #Busca o maior valor e transformar em um unico pixel, então perdemos alguns pixels,\n",
        "#mas o principal da imagem se mantém"
      ],
      "metadata": {
        "colab": {
          "base_uri": "https://localhost:8080/"
        },
        "id": "Z7MRa3Qau-4f",
        "outputId": "b48db2c0-643c-4c6b-9aff-c7c705169c76"
      },
      "execution_count": 5,
      "outputs": [
        {
          "output_type": "stream",
          "name": "stdout",
          "text": [
            "torch.Size([1, 3, 3])\n",
            "tensor([[[1., 2., 3.],\n",
            "         [4., 5., 6.],\n",
            "         [7., 8., 9.]]])\n",
            "torch.Size([1, 2, 2])\n",
            "tensor([[[5., 6.],\n",
            "         [8., 9.]]])\n"
          ]
        }
      ]
    },
    {
      "cell_type": "code",
      "source": [
        "conv= nn.Conv2d(in_channels=3,out_channels=16, kernel_size=3, padding=1)\n",
        "\n",
        "rgb=data.astronaut()\n",
        "rgb_tensor = torch.Tensor(rgb)\n",
        "rgb_tensor=rgb_tensor.permute(2,0,1).unsqueeze(0)\n",
        "\n",
        "mapa_ativacao = conv(rgb_tensor)\n",
        "print('Feature Map :', mapa_ativacao.shape) #1,16,512,512"
      ],
      "metadata": {
        "colab": {
          "base_uri": "https://localhost:8080/"
        },
        "id": "KNhFXmXxwuJH",
        "outputId": "11cf6918-c093-4002-a1e8-569ef9a7f966"
      },
      "execution_count": 6,
      "outputs": [
        {
          "output_type": "stream",
          "name": "stdout",
          "text": [
            "Feature Map : torch.Size([1, 16, 512, 512])\n"
          ]
        }
      ]
    },
    {
      "cell_type": "code",
      "source": [
        "pool = nn.MaxPool2d(kernel_size=2)\n",
        "saida=pool(mapa_ativacao)\n",
        "print(saida.size()) #Perdeu um pixels, por conta do stride igual a 1, sobrepondo a imagem\n",
        "#Se for o strike padrão, perdemos metade dos pixels e o poder de processamneto fica maior"
      ],
      "metadata": {
        "colab": {
          "base_uri": "https://localhost:8080/"
        },
        "id": "w-qQtAZXxKde",
        "outputId": "16a63e62-bf3d-469f-99b6-f1d5ba45fd24"
      },
      "execution_count": 9,
      "outputs": [
        {
          "output_type": "stream",
          "name": "stdout",
          "text": [
            "torch.Size([1, 16, 256, 256])\n"
          ]
        }
      ]
    }
  ]
}