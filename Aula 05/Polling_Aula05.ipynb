{
  "nbformat": 4,
  "nbformat_minor": 0,
  "metadata": {
    "colab": {
      "provenance": [],
      "gpuType": "T4"
    },
    "kernelspec": {
      "name": "python3",
      "display_name": "Python 3"
    },
    "language_info": {
      "name": "python"
    },
    "accelerator": "GPU"
  },
  "cells": [
    {
      "cell_type": "markdown",
      "source": [
        "#Polling\n",
        "- Subamostragem, selecionar menos pixels e mantém o principal da imagem.\n",
        "- Menos parâmetros e mais desempenho\n",
        "- Menor chance de OvERFITTING\n",
        "- Destacar o mais importante\n",
        "- Aprendizado hierárquico\n",
        "## MaxPool2d\n",
        "- Campo de visão de 2\n",
        "- pulo de pixels de 2\n",
        "- Assim eu consigo transformar uma imagem de 4x4 para uma 2x2 preservando aonde tem amior ativação de pixels\n",
        "- E isso também depende do uso do kernel para utilizar e ter maior detalhamento ou não dos pixels"
      ],
      "metadata": {
        "id": "Uuq5XOassb8f"
      }
    },
    {
      "cell_type": "markdown",
      "source": [
        "#Implementção do Polling"
      ],
      "metadata": {
        "id": "GNo23pqcumiQ"
      }
    },
    {
      "cell_type": "code",
      "execution_count": 1,
      "metadata": {
        "id": "VI-6TkdIsS4R"
      },
      "outputs": [],
      "source": [
        "import torch\n",
        "from torch import nn\n",
        "from skimage import data"
      ]
    },
    {
      "cell_type": "code",
      "source": [
        "tns = torch.FloatTensor([[[1,2,3],[4,5,6],[7,8,9]]])\n",
        "\n",
        "pool = nn.MaxPool2d(2,stride=1)\n",
        "saida= pool(tns)\n",
        "print(tns.size())\n",
        "print(tns)\n",
        "print(saida.size())\n",
        "print(saida) #Busca o maior valor e transformar em um unico pixel, então perdemos alguns pixels,\n",
        "#mas o principal da imagem se mantém"
      ],
      "metadata": {
        "colab": {
          "base_uri": "https://localhost:8080/"
        },
        "id": "Z7MRa3Qau-4f",
        "outputId": "a39a51b0-bcdb-449e-b51c-d2af879d840e"
      },
      "execution_count": 5,
      "outputs": [
        {
          "output_type": "stream",
          "name": "stdout",
          "text": [
            "torch.Size([1, 3, 3])\n",
            "tensor([[[1., 2., 3.],\n",
            "         [4., 5., 6.],\n",
            "         [7., 8., 9.]]])\n",
            "torch.Size([1, 2, 2])\n",
            "tensor([[[5., 6.],\n",
            "         [8., 9.]]])\n"
          ]
        }
      ]
    },
    {
      "cell_type": "code",
      "source": [
        "conv= nn.Conv2d(in_channels=3,out_channels=16, kernel_size=3, padding=1)\n",
        "\n",
        "rgb=data.astronaut()\n",
        "rgb_tensor = torch.Tensor(rgb)\n",
        "rgb_tensor=rgb_tensor.permute(2,0,1).unsqueeze(0)\n",
        "\n",
        "mapa_ativacao = conv(rgb_tensor)\n",
        "print('Feature Map :', mapa_ativacao.shape) #1,16,512,512"
      ],
      "metadata": {
        "colab": {
          "base_uri": "https://localhost:8080/"
        },
        "id": "KNhFXmXxwuJH",
        "outputId": "5d54aa2e-f784-442e-b9e2-e9fc0b7128c8"
      },
      "execution_count": 6,
      "outputs": [
        {
          "output_type": "stream",
          "name": "stdout",
          "text": [
            "Feature Map : torch.Size([1, 16, 512, 512])\n"
          ]
        }
      ]
    },
    {
      "cell_type": "markdown",
      "source": [],
      "metadata": {
        "id": "sJgw6Q5FNtF2"
      }
    },
    {
      "cell_type": "code",
      "source": [
        "pool = nn.MaxPool2d(kernel_size=2)\n",
        "saida=pool(mapa_ativacao)\n",
        "print(saida.size()) #Perdeu um pixels, por conta do stride igual a 1, sobrepondo a imagem\n",
        "#Se for o strike padrão, perdemos metade dos pixels e o poder de processamneto fica maior"
      ],
      "metadata": {
        "colab": {
          "base_uri": "https://localhost:8080/"
        },
        "id": "w-qQtAZXxKde",
        "outputId": "16a63e62-bf3d-469f-99b6-f1d5ba45fd24"
      },
      "execution_count": null,
      "outputs": [
        {
          "output_type": "stream",
          "name": "stdout",
          "text": [
            "torch.Size([1, 16, 256, 256])\n"
          ]
        }
      ]
    },
    {
      "cell_type": "markdown",
      "source": [
        "#Batch Normalization\n",
        "- Pré-processamento : Dados centralizados e normalizados aceleram a convergência do treinamento\n",
        "- Convergência estável.\n",
        "- é realizado sobre com o dado de entrada.\n",
        "- Então, propuseram uma camada  aser adicionada após a convolução e antes da ativação não linear.\n",
        "- Conv → Batch → ReLU\n",
        "-\n",
        "\n",
        "\n",
        "\n",
        "\n",
        "\n",
        "\n",
        "\n"
      ],
      "metadata": {
        "id": "haL8VMtiNvHm"
      }
    },
    {
      "cell_type": "code",
      "source": [
        "bloco_Conv= nn.Sequential(\n",
        "    nn.Conv2d(3,32,kernel_size=3,padding=1),\n",
        "    nn.BatchNorm2d(32), #Não muda a dimensão do dado, mas Normalizar os dados\n",
        "    nn.ReLU(),\n",
        "    nn.MaxPool2d(kernel_size=10) #Reduzir a região espacial da imagem em dez vezes\n",
        ")\n",
        "print(bloco_Conv)\n",
        "\n",
        "print(rgb_tensor.size())\n",
        "saida = bloco_Conv(rgb_tensor)\n",
        "print(saida.size())\n",
        "\n",
        "\n",
        "print(\"Fazendo com várias imagens para resultar em 12 caracteristicas  em 32 canais \")\n",
        "minibatch = torch.cat(12*[rgb_tensor])\n",
        "print(minibatch.size())\n",
        "saida_imagens= bloco_Conv(minibatch)\n",
        "print(saida_imagens.size())"
      ],
      "metadata": {
        "colab": {
          "base_uri": "https://localhost:8080/"
        },
        "id": "It2NkVLCQQOd",
        "outputId": "22b87598-f044-4c7c-c4e8-924c540071bb"
      },
      "execution_count": 9,
      "outputs": [
        {
          "output_type": "stream",
          "name": "stdout",
          "text": [
            "Sequential(\n",
            "  (0): Conv2d(3, 32, kernel_size=(3, 3), stride=(1, 1), padding=(1, 1))\n",
            "  (1): BatchNorm2d(32, eps=1e-05, momentum=0.1, affine=True, track_running_stats=True)\n",
            "  (2): ReLU()\n",
            "  (3): MaxPool2d(kernel_size=10, stride=10, padding=0, dilation=1, ceil_mode=False)\n",
            ")\n",
            "torch.Size([1, 3, 512, 512])\n",
            "torch.Size([1, 32, 51, 51])\n",
            "Fazendo com várias imagens para resultar em 12 caracteristicas  em 32 canais \n",
            "torch.Size([12, 3, 512, 512])\n",
            "torch.Size([12, 32, 51, 51])\n"
          ]
        }
      ]
    }
  ]
}