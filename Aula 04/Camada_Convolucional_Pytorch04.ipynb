{
  "nbformat": 4,
  "nbformat_minor": 0,
  "metadata": {
    "colab": {
      "provenance": [],
      "gpuType": "T4"
    },
    "kernelspec": {
      "name": "python3",
      "display_name": "Python 3"
    },
    "language_info": {
      "name": "python"
    },
    "accelerator": "GPU"
  },
  "cells": [
    {
      "cell_type": "markdown",
      "source": [
        "#Múltiplos Canais\n",
        "# Camada Convolucional\n",
        "- Convolucional\n",
        "- Polling\n",
        "- Batch Normalization ( aprender caracteristicas)\n",
        "- MLP ( Classificação)\n",
        "- Em imagens coloridas temos 3 dimensões, logo o kernel em 3d também, porém o kernel si anda em 2d como em imagens preto e branco e fazemos aquela conta de multiplicação em altura e largura ponta a ponto com profundidade também ponto a ponto, o que gera um resultado um mapa de ativação com um único canal.\n",
        "- Pensamos agora em quantos Kernels (Filtros CONVOLUCIONAIS ) eu quero por camada, semelhante a quantos neurônios eu quero na MLP.\n",
        "- Para cada filtro especializado a aprender algo, gera um mapa de ativação sobre aquela característica."
      ],
      "metadata": {
        "id": "KZQCO79UYjTn"
      }
    },
    {
      "cell_type": "markdown",
      "source": [
        "#Parâmetros da camada\n",
        "##Primeira camada\n",
        "- Pacote nn\n",
        "- in_channels ( Número de canais da imagem)\n",
        "- out_channels ( Número de mapas de ativação = Numero de Filtros )\n",
        "- Kernel_size (Campo de visão do filtro, tamanho do kernel = 3x3,5x5 )\n",
        "- Stride (Como o kernel irá andar por cada pixel, se for 1. Pixel por pixel)\n",
        "- Padding ( Preenchimento com zeros no dado, para conseguir operar nas bordas)\n",
        "- Obs : KERNEL 3X3 com Padding de 1, preserva a região espacial da imagem\n",
        "        KERNEL 5X5 com Padding de 2 , preserva a região espacial da imagem\n",
        "- Resolução espacial do mapa de ativação:\n",
        "   X = ((Xin - Kernel +2*Padding)/Stride)+1\n"
      ],
      "metadata": {
        "id": "0oPesOQPbo-_"
      }
    },
    {
      "cell_type": "markdown",
      "source": [
        "#Implementação"
      ],
      "metadata": {
        "id": "7PosDDokf2YV"
      }
    },
    {
      "cell_type": "code",
      "execution_count": null,
      "metadata": {
        "id": "5OrQ7lyWYXjs"
      },
      "outputs": [],
      "source": []
    }
  ]
}