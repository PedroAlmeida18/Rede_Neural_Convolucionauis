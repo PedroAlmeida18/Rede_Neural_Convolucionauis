{
  "nbformat": 4,
  "nbformat_minor": 0,
  "metadata": {
    "colab": {
      "provenance": [],
      "authorship_tag": "ABX9TyNYYst88E1iCEebDktTBVkS",
      "include_colab_link": true
    },
    "kernelspec": {
      "name": "python3",
      "display_name": "Python 3"
    },
    "language_info": {
      "name": "python"
    }
  },
  "cells": [
    {
      "cell_type": "markdown",
      "metadata": {
        "id": "view-in-github",
        "colab_type": "text"
      },
      "source": [
        "<a href=\"https://colab.research.google.com/github/PedroAlmeida18/Rede_Neural_Convolucionauis/blob/Aula_01/Rede_Neural_Convolucional_AULA010.ipynb\" target=\"_parent\"><img src=\"https://colab.research.google.com/assets/colab-badge.svg\" alt=\"Open In Colab\"/></a>"
      ]
    },
    {
      "cell_type": "markdown",
      "source": [
        "#Rede Neural Convolucional - AULA 01\n",
        "Conceitos\n",
        "\n",
        "MLP :  Número de  neurônios na camada anterior e  número na camada atual dará as conexões pela multiplicação, chamadas de pesos.\n",
        "     - SÓ ACEITA ENTRDAS DE 1D, LINEARLIZAR A IMAGEM\n",
        "     - A PROXIMA CAMADA DEVE SER DIRETAMENTE PROPORCIONAL\n",
        "     - POR UM ALTO CUSTO PARA ARAMZENAR A PENAS A IMAGAME O MLÇP NÃO SERÁ USADO.\n",
        "Convolução (CNN) :\n",
        "                  - O Númerto de parametros da rede não é mais vinculado ao tamanho da entrada\n",
        "                  - interpreta a imagem de forma mais intuitiva\n",
        "                  -"
      ],
      "metadata": {
        "id": "tA3JDPzSj8xa"
      }
    },
    {
      "cell_type": "markdown",
      "source": [
        "# ARQUITETURA DA CNN\n",
        "- TRABALHA COM VOLUMES 3D(ALTURA, LARGURA E PROFUNDIDADE)\n",
        "\n",
        "- PROFUNDIDDAE : Canais de cor, mapa de características.\n",
        "- Neuronios(3D) : possuem campo de visão limitado.\n",
        "- CNN alterna em transformação e subamostragem.\n",
        "- Camadas comuns : Convolucional(conv), Polling(Poll), Totalmente Concetada(FC).\n",
        "- Aprendizado hierarquico\n",
        "\n",
        "\n",
        "\n"
      ],
      "metadata": {
        "id": "wnE74Fd5mqeE"
      }
    },
    {
      "cell_type": "code",
      "execution_count": null,
      "metadata": {
        "id": "MGta2oD7j24F"
      },
      "outputs": [],
      "source": []
    }
  ]
}